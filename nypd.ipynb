{
 "cells": [
  {
   "cell_type": "markdown",
   "metadata": {},
   "source": [
    "# NYPD Civilian Complaints\n",
    "This project contains data on 12,000 civilian complaints filed against New York City police officers. Interesting questions to consider include:\n",
    "- Does the length that the complaint is open depend on ethnicity/age/gender?\n",
    "- Are white-officer vs non-white complaintant cases more likely to go against the complainant? \n",
    "- Are allegations more severe for cases in which the officer and complaintant are not the same ethnicity?\n",
    "- Are the complaints of women more succesful than men (for the same allegations?)\n",
    "\n",
    "There are a lot of questions that can be asked from this data, so be creative! You are not limited to the sample questions above.\n",
    "\n",
    "### Getting the Data\n",
    "The data and its corresponding data dictionary is downloadable [here](https://www.propublica.org/datastore/dataset/civilian-complaints-against-new-york-city-police-officers). The data dictionary is in the project03 folder.\n",
    "\n",
    "Note: you don't need to provide any information to obtain the data. Just agree to the terms of use and click \"submit.\"\n",
    "\n",
    "### Cleaning and EDA\n",
    "- Clean the data.\n",
    "    - Certain fields have \"missing\" data that isn't labeled as missing. For example, there are fields with the value \"Unknown.\" Do some exploration to find those values and convert them to null values.\n",
    "    - You may also want to combine the date columns to create a `datetime` column for time-series exploration.\n",
    "- Understand the data in ways relevant to your question using univariate and bivariate analysis of the data as well as aggregations.\n",
    "\n",
    "### Assessment of Missingness\n",
    "- Assess the missingness per the requirements in `project03.ipynb`\n",
    "\n",
    "### Hypothesis Test / Permutation Test\n",
    "Find a hypothesis test or permutation test to perform. You can use the questions at the top of the notebook for inspiration."
   ]
  },
  {
   "cell_type": "markdown",
   "metadata": {},
   "source": [
    "# Summary of Findings\n",
    "\n",
    "### Introduction\n",
    "TODO\n",
    "\n",
    "### Cleaning and EDA\n",
    "TODO\n",
    "\n",
    "### Assessment of Missingness\n",
    "TODO\n",
    "\n",
    "### Hypothesis Test\n",
    "TODO"
   ]
  },
  {
   "cell_type": "markdown",
   "metadata": {},
   "source": [
    "# Code"
   ]
  },
  {
   "cell_type": "code",
   "execution_count": 3,
   "metadata": {
    "ExecuteTime": {
     "end_time": "2019-10-31T23:36:28.652554Z",
     "start_time": "2019-10-31T23:36:27.180520Z"
    }
   },
   "outputs": [],
   "source": [
    "import matplotlib.pyplot as plt\n",
    "import numpy as np\n",
    "import os\n",
    "import pandas as pd\n",
    "import seaborn as sns\n",
    "%matplotlib inline\n",
    "%config InlineBackend.figure_format = 'retina'  # Higher resolution figures"
   ]
  },
  {
   "cell_type": "markdown",
   "metadata": {},
   "source": [
    "### Cleaning and EDA"
   ]
  },
  {
   "cell_type": "code",
   "execution_count": 4,
   "metadata": {
    "ExecuteTime": {
     "end_time": "2019-10-31T23:36:28.657068Z",
     "start_time": "2019-10-31T23:36:28.654650Z"
    },
    "scrolled": false
   },
   "outputs": [],
   "source": [
    "nypd = pd.read_csv('allegations_202007271729.csv')\n",
    "\n",
    "df = nypd.copy()\n",
    "\n",
    "df['complainant_ethnicity'] = df ['complainant_ethnicity'].replace('Unknown', np.NaN)\n",
    "df['complainant_gender'] = df['complainant_gender'].replace('Not described', np.NaN)\n",
    "df['contact_reason'] = df['contact_reason'].replace('No contact', np.NaN)\n",
    "df['complainant_age_incident'] = df['complainant_age_incident'].apply(lambda x: np.NaN if x < 0 else x)\n",
    "\n",
    "preclean = df.assign(date_received=(df['month_received'].astype(str) + ' ' + \\\n",
    "                                    df['year_received'].astype(str)).apply(pd.to_datetime))\n",
    "cleaned = preclean.assign(date_closed=(df['month_closed'].astype(str) + ' ' + \\\n",
    "                                       df['year_closed'].astype(str)).apply(pd.to_datetime))"
   ]
  },
  {
   "cell_type": "code",
   "execution_count": 7,
   "metadata": {},
   "outputs": [
    {
     "ename": "IndentationError",
     "evalue": "unindent does not match any outer indentation level (<tokenize>, line 6)",
     "output_type": "error",
     "traceback": [
      "\u001b[1;36m  File \u001b[1;32m\"<tokenize>\"\u001b[1;36m, line \u001b[1;32m6\u001b[0m\n\u001b[1;33m    'outcome_description',\u001b[0m\n\u001b[1;37m    ^\u001b[0m\n\u001b[1;31mIndentationError\u001b[0m\u001b[1;31m:\u001b[0m unindent does not match any outer indentation level\n"
     ]
    }
   ],
   "source": [
    "useful_cols = ['complainant_ethnicity',\n",
    "            'complainant_gender',\n",
    "            'complainant_age_incident',\n",
    "            'allegation',\n",
    "            'contact_reason',\n",
    "            'outcome_description',\n",
    "            'board_disposition',\n",
    "            'date_received',\n",
    "            'date_closed',\n",
    "            ]\n",
    "only_binary = cleaned[(cleaned['complainant_gender'] == 'Male') | (cleaned['complainant_gender'] == 'Female')]\n",
    "q_data = only_binary.loc[:, useful_cols]\n",
    "q_data['success'] = only_binary['board_disposition'].apply(lambda x: 0 if x in ['Unsubstantiated', 'Exonerated'] else 1)\n",
    "q_data['duration'] = q_data['date_closed'] - q_data['date_received']\n",
    "q_data = q_data.reset_index(drop=True)\n",
    "q_data"
   ]
  },
  {
   "cell_type": "code",
   "execution_count": 176,
   "metadata": {},
   "outputs": [
    {
     "data": {
      "text/plain": [
       "0.016"
      ]
     },
     "execution_count": 176,
     "metadata": {},
     "output_type": "execute_result"
    }
   ],
   "source": [
    "# perm test: is missingness in 'complainant_ethnicity' dependent on 'success'\n",
    "# reject, there is indeed dependency\n",
    "\n",
    "n_repetitions = 500\n",
    "\n",
    "tvds = []\n",
    "for _ in range(n_repetitions):\n",
    "\n",
    "    # shuffle the success column\n",
    "    shuffled_col = (\n",
    "        q_data['success']\n",
    "        .sample(replace=False, frac=1)\n",
    "        .reset_index(drop=True)\n",
    "    )\n",
    "\n",
    "    # put them in a table\n",
    "    shuffled = (\n",
    "        q_data\n",
    "        .assign(**{\n",
    "            'success': shuffled_col,\n",
    "            'is_null': q_data['complainant_ethnicity'].isnull()\n",
    "        })\n",
    "    )\n",
    "\n",
    "    # compute the tvd\n",
    "    shuffled = (\n",
    "        shuffled\n",
    "        .pivot_table(index='is_null', columns='success', aggfunc='size')\n",
    "        .apply(lambda x:x / x.sum(), axis=1)\n",
    "    )\n",
    "\n",
    "    tvd = shuffled.diff().iloc[-1].abs().sum() / 2\n",
    "    # add it to the list of results\n",
    "\n",
    "    tvds.append(tvd)\n",
    "\n",
    "distr = (\n",
    "    q_data\n",
    "    .assign(is_null=q_data.complainant_ethnicity.isnull())\n",
    "    .pivot_table(index='is_null', columns='success', aggfunc='size')\n",
    "    .apply(lambda x:x / x.sum(), axis=1)\n",
    ")\n",
    "obs = distr.diff().iloc[-1].abs().sum() / 2\n",
    "pval = np.mean(tvds > obs)\n",
    "pval"
   ]
  },
  {
   "cell_type": "code",
   "execution_count": 186,
   "metadata": {},
   "outputs": [
    {
     "data": {
      "text/plain": [
       "0.014"
      ]
     },
     "execution_count": 186,
     "metadata": {},
     "output_type": "execute_result"
    }
   ],
   "source": [
    "n_repetitions = 500\n",
    "race = q_data[q_data['allegation'] == 'Race'].reset_index(drop=True)\n",
    "tvds = []\n",
    "for _ in range(n_repetitions):\n",
    "\n",
    "    # shuffle the success column\n",
    "    shuffled_col = (\n",
    "        race['success']\n",
    "        .sample(replace=False, frac=1)\n",
    "        .reset_index(drop=True)\n",
    "    )\n",
    "\n",
    "    # put them in a table\n",
    "    shuffled = (\n",
    "        race\n",
    "        .assign(**{\n",
    "            'success': shuffled_col,\n",
    "            'is_null': race['complainant_ethnicity'].isnull()\n",
    "        })\n",
    "    )\n",
    "\n",
    "    # compute the tvd\n",
    "    shuffled = (\n",
    "        shuffled\n",
    "        .pivot_table(index='is_null', columns='success', aggfunc='size')\n",
    "        .apply(lambda x:x / x.sum(), axis=1)\n",
    "    )\n",
    "\n",
    "    tvd = shuffled.diff().iloc[-1].abs().sum() / 2\n",
    "    # add it to the list of results\n",
    "\n",
    "    tvds.append(tvd)\n",
    "\n",
    "distr = (\n",
    "    race\n",
    "    .assign(is_null=race.complainant_ethnicity.isnull())\n",
    "    .pivot_table(index='is_null', columns='success', aggfunc='size')\n",
    "    .apply(lambda x:x / x.sum(), axis=1)\n",
    ")\n",
    "obs = distr.diff().iloc[-1].abs().sum() / 2\n",
    "pval = np.mean(tvds > obs)\n",
    "pval"
   ]
  },
  {
   "cell_type": "code",
   "execution_count": 162,
   "metadata": {},
   "outputs": [
    {
     "data": {
      "text/plain": [
       "0.314"
      ]
     },
     "execution_count": 162,
     "metadata": {},
     "output_type": "execute_result"
    }
   ],
   "source": [
    "# perm test: is missingness of 'complainant_ethnicity' dependent on 'complainant_gender'?\n",
    "# don't reject, there is no dependency\n",
    "\n",
    "n_repetitions = 500\n",
    "\n",
    "tvds = []\n",
    "for _ in range(n_repetitions):\n",
    "\n",
    "    # shuffle the success column\n",
    "    shuffled_col = (\n",
    "        q_data['complainant_gender']\n",
    "        .sample(replace=False, frac=1)\n",
    "        .reset_index(drop=True)\n",
    "    )\n",
    "\n",
    "    # put them in a table\n",
    "    shuffled = (\n",
    "        q_data\n",
    "        .assign(**{\n",
    "            'complainant_gender': shuffled_col,\n",
    "            'is_null': q_data['complainant_ethnicity'].isnull()\n",
    "        })\n",
    "    )\n",
    "\n",
    "    # compute the tvd\n",
    "    shuffled = (\n",
    "        shuffled\n",
    "        .pivot_table(index='is_null', columns='complainant_gender', aggfunc='size')\n",
    "        .apply(lambda x:x / x.sum(), axis=1)\n",
    "    )\n",
    "\n",
    "    tvd = shuffled.diff().iloc[-1].abs().sum() / 2\n",
    "    # add it to the list of results\n",
    "\n",
    "    tvds.append(tvd)\n",
    "\n",
    "distr = (\n",
    "    q_data\n",
    "    .assign(is_null=q_data.complainant_ethnicity.isnull())\n",
    "    .pivot_table(index='is_null', columns='complainant_gender', aggfunc='size')\n",
    "    .apply(lambda x:x / x.sum(), axis=1)\n",
    ")\n",
    "obs = distr.diff().iloc[-1].abs().sum() / 2\n",
    "pval = np.mean(tvds > obs)\n",
    "pval"
   ]
  },
  {
   "cell_type": "code",
   "execution_count": 440,
   "metadata": {
    "scrolled": false
   },
   "outputs": [
    {
     "data": {
      "text/plain": [
       "[0.001, 0.046, 0.035, 0.016]"
      ]
     },
     "execution_count": 440,
     "metadata": {},
     "output_type": "execute_result"
    }
   ],
   "source": [
    "# permutation test: are women more likely to win their cases than males?\n",
    "\n",
    "n_repetitions = 1000\n",
    "\n",
    "alleg = ['Physical force', 'Word', 'Refusal to provide name/shield number', 'Threat of arrest']\n",
    "\n",
    "diffs = [[], [], [], []]\n",
    "\n",
    "for i in range(len(alleg)):\n",
    "    filt = q_data[q_data['allegation'] == alleg[i]].reset_index(drop=True)\n",
    "        \n",
    "    for _ in range(n_repetitions):\n",
    "        # shuffle the successes\n",
    "        \n",
    "        shuffled_successes = (\n",
    "            filt['success']\n",
    "            .sample(replace=False, frac=1)\n",
    "            .reset_index(drop=True)\n",
    "        )\n",
    "\n",
    "        # put them in a table\n",
    "        shuffled = (\n",
    "            filt\n",
    "            .assign(**{'shuffled success': shuffled_successes})\n",
    "        )\n",
    "\n",
    "        # compute the group differences (test statistic!)\n",
    "        group_means = (\n",
    "            shuffled\n",
    "            .groupby('complainant_gender')\n",
    "            .mean()\n",
    "            .loc[:, 'shuffled success']\n",
    "        )\n",
    "        difference = group_means.diff().iloc[-1]\n",
    "        \n",
    "        # add it to the list of results\n",
    "        diffs[i].append(abs(difference))\n",
    "\n",
    "lst=[]\n",
    "for i in range(len(diffs)):\n",
    "    diff_series = pd.Series(diffs[i])\n",
    "    pval = (diff_series >=  obs_diff[i]).mean()\n",
    "    lst.append(pval)\n",
    "    \n",
    "lst"
   ]
  },
  {
   "cell_type": "code",
   "execution_count": 443,
   "metadata": {
    "scrolled": true
   },
   "outputs": [
    {
     "data": {
      "text/plain": [
       "[0.001, 0.04, 0.116, 0.882]"
      ]
     },
     "execution_count": 443,
     "metadata": {},
     "output_type": "execute_result"
    }
   ],
   "source": [
    "n_repetitions = 1000\n",
    "\n",
    "alleg = ['Physical force', 'Word', 'Vehicle stop', 'Threat of force (verbal or physical)']\n",
    "\n",
    "diffs = [[], [], [], []]\n",
    "\n",
    "# we're doing 1000 repetitions (on each allegation) to ensure accuracy\n",
    "\n",
    "for i in range(len(alleg)):\n",
    "    \n",
    "    # narrowing the dataframe down to the rows with the current allegation\n",
    "    filt = q_data[q_data['allegation'] == alleg[i]].reset_index(drop=True)\n",
    "        \n",
    "    for _ in range(n_repetitions):\n",
    "        # shuffle the successes\n",
    "        \n",
    "        shuffled_successes = (\n",
    "            filt['success']\n",
    "            .sample(replace=False, frac=1)\n",
    "            .reset_index(drop=True)\n",
    "        )\n",
    "\n",
    "        # put them in a table\n",
    "        shuffled = (\n",
    "            filt\n",
    "            .assign(**{'shuffled success': shuffled_successes})\n",
    "        )\n",
    "\n",
    "        # compute the group differences (test statistic!)\n",
    "        group_means = (\n",
    "            shuffled\n",
    "            .groupby('complainant_gender')\n",
    "            .mean()\n",
    "            .loc[:, 'shuffled success']\n",
    "        )\n",
    "        difference = group_means.diff().iloc[-1]\n",
    "        \n",
    "        # add it to the list of results\n",
    "        diffs[i].append(abs(difference))\n",
    "\n",
    "# for each allegation in the series of differences, we perform the pval comparison with the corresponding\n",
    "# observed difference in the obs_diff series\n",
    "\n",
    "final_pvals = []\n",
    "for i in range(len(diffs)):\n",
    "    diff_series = pd.Series(diffs[i])\n",
    "    pval = (diff_series >=  obs_diff[i]).mean()\n",
    "    final_pvals.append(pval)\n",
    "    \n",
    "final_pvals"
   ]
  },
  {
   "cell_type": "code",
   "execution_count": 442,
   "metadata": {
    "scrolled": true
   },
   "outputs": [
    {
     "data": {
      "text/plain": [
       "0    0.036245\n",
       "1    0.030937\n",
       "2    0.060682\n",
       "3    0.009670\n",
       "dtype: float64"
      ]
     },
     "execution_count": 442,
     "metadata": {},
     "output_type": "execute_result"
    }
   ],
   "source": [
    "alleg = ['Physical force', 'Word', 'Vehicle stop', 'Threat of force (verbal or physical)']\n",
    "\n",
    "obs_diff = []\n",
    "for i in alleg:\n",
    "    filt = q_data[q_data['allegation'] == i].reset_index(drop=True)\n",
    "    observed_difference = (\n",
    "        filt\n",
    "        .groupby('complainant_gender')['success']\n",
    "        .mean()\n",
    "        .diff()\n",
    "        .iloc[-1]\n",
    "    )\n",
    "    obs_diff.append(observed_difference)\n",
    "    \n",
    "obs_diff = pd.Series(obs_diff)\n",
    "obs_diff"
   ]
  },
  {
   "cell_type": "code",
   "execution_count": 313,
   "metadata": {
    "scrolled": true
   },
   "outputs": [
    {
     "data": {
      "text/plain": [
       "<matplotlib.axes._subplots.AxesSubplot at 0x22e8e8cdac0>"
      ]
     },
     "execution_count": 313,
     "metadata": {},
     "output_type": "execute_result"
    },
    {
     "data": {
      "image/png": "[encoded data removed]",
      "text/plain": [
       "<Figure size 432x288 with 1 Axes>"
      ]
     },
     "metadata": {
      "image/png": {
       "height": 260,
       "width": 388
      },
      "needs_background": "light"
     },
     "output_type": "display_data"
    }
   ],
   "source": [
    "# univariate analyses\n",
    "\n",
    "# From just looking at the complainant_gender column, we can see that an overwhelming majority of complaints are filed\n",
    "# by men.\n",
    "q_data['complainant_gender'].value_counts().plot(kind='bar')\n",
    "\n",
    "# From the success column, we can see that only around 25% of cases are won against the police. Any substantiated\n",
    "# value in 'board_disposition' constitutes a win for the complainant.\n",
    "q_data.pivot_table(index='success', aggfunc='size').plot(kind='bar')"
   ]
  },
  {
   "cell_type": "code",
   "execution_count": 395,
   "metadata": {},
   "outputs": [
    {
     "data": {
      "text/plain": [
       "<matplotlib.axes._subplots.AxesSubplot at 0x22764af7190>"
      ]
     },
     "execution_count": 395,
     "metadata": {},
     "output_type": "execute_result"
    },
    {
     "data": {
      "image/png": "[encoded data removed]",
      "text/plain": [
       "<Figure size 432x288 with 1 Axes>"
      ]
     },
     "metadata": {
      "image/png": {
       "height": 289,
       "width": 378
      },
      "needs_background": "light"
     },
     "output_type": "display_data"
    }
   ],
   "source": [
    "# bivariate analyses\n",
    "\n",
    "# Men seem to have a higher win rate for cases than women.\n",
    "q_data.pivot_table(index='complainant_gender', values=['success'], aggfunc='mean').plot(kind='bar')"
   ]
  },
  {
   "cell_type": "markdown",
   "metadata": {},
   "source": [
    "### Assessment of Missingness"
   ]
  },
  {
   "cell_type": "markdown",
   "metadata": {},
   "source": [
    "### Hypothesis Test"
   ]
  },
  {
   "cell_type": "code",
   "execution_count": 438,
   "metadata": {},
   "outputs": [
    {
     "data": {
      "text/plain": [
       "Physical force                           4782\n",
       "Word                                     3842\n",
       "Stop                                     2259\n",
       "Search (of person)                       2007\n",
       "Frisk                                    1863\n",
       "Refusal to provide name/shield number    1470\n",
       "Vehicle search                           1395\n",
       "Threat of arrest                         1332\n",
       "Vehicle stop                             1087\n",
       "Threat of force (verbal or physical)      887\n",
       "Question and/or stop                      679\n",
       "Other                                     612\n",
       "Gun Pointed                               558\n",
       "Strip-searched                            547\n",
       "Question                                  519\n",
       "Name: allegation, dtype: int64"
      ]
     },
     "execution_count": 438,
     "metadata": {},
     "output_type": "execute_result"
    }
   ],
   "source": [
    "q_data['allegation'].value_counts().head(15)"
   ]
  },
  {
   "cell_type": "code",
   "execution_count": 435,
   "metadata": {},
   "outputs": [
    {
     "data": {
      "text/plain": [
       "{'Whole population': 0.1726675607826954,\n",
       " 'Physical force': 0.1672940192388122,\n",
       " 'Word': 0.2368558042686101,\n",
       " 'Vehicle stop': 0.10487580496780129,\n",
       " 'Threat of force (verbal or physical)': 0.12288613303269448}"
      ]
     },
     "execution_count": 435,
     "metadata": {},
     "output_type": "execute_result"
    }
   ],
   "source": [
    "# proportion of females in the data set\n",
    "fem_only= q_data.groupby('complainant_gender').size()\n",
    "prop_fem = fem_only[0] / fem_only.sum()\n",
    "\n",
    "# proportion of women who filed against the police for physical force\n",
    "pf = q_data[q_data['allegation'] == 'Physical force'].groupby('complainant_gender').size()\n",
    "prop_pf = pf[0] / pf.sum()\n",
    "\n",
    "# proportion of women who filed against the police for word\n",
    "w = q_data[q_data['allegation'] == 'Word'].groupby('complainant_gender').size()\n",
    "prop_w = w[0] / w.sum()\n",
    "\n",
    "# proportion of women who filed against the police for vehicle stop\n",
    "vst = q_data[q_data['allegation'] == 'Vehicle stop'].groupby('complainant_gender').size()\n",
    "prop_vst = vst[0] / vst.sum()\n",
    "\n",
    "# proportion of women who filed against the police for threat of force\n",
    "tof = q_data[q_data['allegation'] == 'Threat of force (verbal or physical)'].groupby('complainant_gender').size()\n",
    "prop_tof = tof[0] / tof.sum()\n",
    "\n",
    "alleg = ['Physical force', 'Word', 'Vehicle stop', 'Threat of force (verbal or physical)']\n",
    "\n",
    "{'Whole population': prop_fem, 'Physical force': prop_pf, 'Word': prop_w, \\\n",
    "    'Vehicle stop': prop_vst, 'Threat of force (verbal or physical)': prop_tof}"
   ]
  },
  {
   "cell_type": "code",
   "execution_count": null,
   "metadata": {},
   "outputs": [],
   "source": [
    "alleg = ['Physical force', 'Word', 'Vehicle stop', 'Threat of force (verbal or physical)']"
   ]
  }
 ],
 "metadata": {
  "kernelspec": {
   "display_name": "Python 3",
   "language": "python",
   "name": "python3"
  },
  "language_info": {
   "codemirror_mode": {
    "name": "ipython",
    "version": 3
   },
   "file_extension": ".py",
   "mimetype": "text/x-python",
   "name": "python",
   "nbconvert_exporter": "python",
   "pygments_lexer": "ipython3",
   "version": "3.8.3"
  }
 },
 "nbformat": 4,
 "nbformat_minor": 2
}
